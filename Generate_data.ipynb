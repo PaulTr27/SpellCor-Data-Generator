{
 "cells": [
  {
   "cell_type": "code",
   "execution_count": 1,
   "id": "eeb98d75",
   "metadata": {},
   "outputs": [
    {
     "name": "stderr",
     "output_type": "stream",
     "text": [
      "Found cached dataset csv (C:/Users/phaol/.cache/huggingface/datasets/PaulTran___csv/PaulTran--vn-essay-sentence-ee565544bae3e014/0.0.0/6954658bab30a358235fa864b05cf819af0e179325c740e4bc853bcc7ec513e1)\n"
     ]
    },
    {
     "data": {
      "application/vnd.jupyter.widget-view+json": {
       "model_id": "9dec86ed96e94132b2f3ff1b59590524",
       "version_major": 2,
       "version_minor": 0
      },
      "text/plain": [
       "  0%|          | 0/1 [00:00<?, ?it/s]"
      ]
     },
     "metadata": {},
     "output_type": "display_data"
    }
   ],
   "source": [
    "import pandas as pd \n",
    "from data_generator import DataGenerator as DG\n",
    "from datasets import load_dataset\n",
    "\n",
    "dataset = load_dataset(\"PaulTran/vn-essay-sentence\")"
   ]
  },
  {
   "cell_type": "code",
   "execution_count": 2,
   "id": "8d631faa",
   "metadata": {},
   "outputs": [],
   "source": [
    "raw_data = dataset[\"train\"][\"Text\"]\n",
    "for i in raw_data:\n",
    "    if i.count(\" \") < 3:\n",
    "        raw_data.remove(i)"
   ]
  },
  {
   "cell_type": "code",
   "execution_count": 3,
   "id": "1f29d697",
   "metadata": {},
   "outputs": [
    {
     "name": "stderr",
     "output_type": "stream",
     "text": [
      "100%|██████████████████████████████████████████████████████████████████████████████████| 10/10 [00:08<00:00,  1.11it/s]\n"
     ]
    },
    {
     "data": {
      "text/plain": [
       "'Generated data!'"
      ]
     },
     "execution_count": 3,
     "metadata": {},
     "output_type": "execute_result"
    }
   ],
   "source": [
    "data_gen = DG(raw_data)\n",
    "data_gen.generate(iterations=10)"
   ]
  },
  {
   "cell_type": "code",
   "execution_count": 4,
   "id": "3846f219",
   "metadata": {},
   "outputs": [],
   "source": [
    "data_dict = data_gen.get_data()"
   ]
  },
  {
   "cell_type": "code",
   "execution_count": 5,
   "id": "34100dd8",
   "metadata": {},
   "outputs": [
    {
     "data": {
      "text/html": [
       "<div>\n",
       "<style scoped>\n",
       "    .dataframe tbody tr th:only-of-type {\n",
       "        vertical-align: middle;\n",
       "    }\n",
       "\n",
       "    .dataframe tbody tr th {\n",
       "        vertical-align: top;\n",
       "    }\n",
       "\n",
       "    .dataframe thead th {\n",
       "        text-align: right;\n",
       "    }\n",
       "</style>\n",
       "<table border=\"1\" class=\"dataframe\">\n",
       "  <thead>\n",
       "    <tr style=\"text-align: right;\">\n",
       "      <th></th>\n",
       "      <th>input_text</th>\n",
       "      <th>target_text</th>\n",
       "      <th>tokens</th>\n",
       "      <th>tags</th>\n",
       "      <th>general_error_type</th>\n",
       "    </tr>\n",
       "  </thead>\n",
       "  <tbody>\n",
       "    <tr>\n",
       "      <th>0</th>\n",
       "      <td>Ba3n li4nh  hai tu72 tha65t d9o7n gia3n nhu7ng...</td>\n",
       "      <td>Bản lĩnh  hai từ thật đơn giản nhưng bạn biết ...</td>\n",
       "      <td>[Ba3n, li4nh, hai, tu72, tha65t, d9o7n, gia3n,...</td>\n",
       "      <td>[2, 2, 0, 2, 2, 2, 2, 2, 2, 2, 2, 2, 2, 0, 2, ...</td>\n",
       "      <td>VNI Typing Error</td>\n",
       "    </tr>\n",
       "    <tr>\n",
       "      <th>1</th>\n",
       "      <td>Giong nhu mot chiec ao giap duoc toi luyen tu ...</td>\n",
       "      <td>Giống như một chiếc áo giáp được tôi luyện từ ...</td>\n",
       "      <td>[Giong, nhu, mot, chiec, ao, giap, duoc, toi, ...</td>\n",
       "      <td>[3, 3, 3, 3, 3, 3, 3, 3, 3, 3, 3, 3, 3, 3, 3, ...</td>\n",
       "      <td>Missing Diacritical Marks</td>\n",
       "    </tr>\n",
       "    <tr>\n",
       "      <th>2</th>\n",
       "      <td>Vậy pản lĩnh là gì Bản lĩnh là khả năng giải q...</td>\n",
       "      <td>Vậy bản lĩnh là gì Bản lĩnh là khả năng giải q...</td>\n",
       "      <td>[Vậy, pản, lĩnh, là, gì, Bản, lĩnh, là, khả, n...</td>\n",
       "      <td>[0, 6, 0, 0, 0, 0, 0, 0, 0, 0, 0, 0, 0, 0, 0, ...</td>\n",
       "      <td>Wrong Spelling Error</td>\n",
       "    </tr>\n",
       "    <tr>\n",
       "      <th>3</th>\n",
       "      <td>Nguoi ban linh la nguoi dam duong dau voi kho ...</td>\n",
       "      <td>Người bản lĩnh là người dám đương đầu với khó ...</td>\n",
       "      <td>[Nguoi, ban, linh, la, nguoi, dam, duong, dau,...</td>\n",
       "      <td>[3, 3, 3, 3, 3, 3, 3, 3, 3, 3, 3, 0, 3]</td>\n",
       "      <td>Missing Diacritical Marks</td>\n",
       "    </tr>\n",
       "    <tr>\n",
       "      <th>4</th>\n",
       "      <td>Thất bạivu tự họ sẽ đứng lênub</td>\n",
       "      <td>Thất bại tự họ sẽ đứng lên</td>\n",
       "      <td>[Thất, bạivu, tự, họ, sẽ, đứng, lênub]</td>\n",
       "      <td>[0, 4, 0, 0, 0, 0, 4]</td>\n",
       "      <td>Excess Letter Error</td>\n",
       "    </tr>\n",
       "    <tr>\n",
       "      <th>...</th>\n",
       "      <td>...</td>\n",
       "      <td>...</td>\n",
       "      <td>...</td>\n",
       "      <td>...</td>\n",
       "      <td>...</td>\n",
       "    </tr>\n",
       "    <tr>\n",
       "      <th>97315</th>\n",
       "      <td>Ho5 kho6ng nhu74ng me61n kha1ch ma2 co2n nhu7 ...</td>\n",
       "      <td>Họ không những mến khách mà còn như một người ...</td>\n",
       "      <td>[Ho5, kho6ng, nhu74ng, me61n, kha1ch, ma2, co2...</td>\n",
       "      <td>[2, 2, 2, 2, 2, 2, 2, 2, 2, 2, 2, 2, 2, 0, 2, ...</td>\n",
       "      <td>VNI Typing Error</td>\n",
       "    </tr>\n",
       "    <tr>\n",
       "      <th>97316</th>\n",
       "      <td>Những con người ở đây nồng nhiệt mỗi chi có ch...</td>\n",
       "      <td>Những con người ở đây nồng nhiệt mỗi khi có kh...</td>\n",
       "      <td>[Những, con, người, ở, đây, nồng, nhiệt, mỗi, ...</td>\n",
       "      <td>[0, 0, 0, 0, 0, 0, 0, 0, 6, 0, 6, 0, 0, 6, 0, ...</td>\n",
       "      <td>Wrong Spelling Error</td>\n",
       "    </tr>\n",
       "    <tr>\n",
       "      <th>97317</th>\n",
       "      <td>Qua ddaay ta thaasy vijnh Haj Long raast xuwsn...</td>\n",
       "      <td>Qua đây ta thấy vịnh Hạ Long rất xứng đáng là ...</td>\n",
       "      <td>[Qua, ddaay, ta, thaasy, vijnh, Haj, Long, raa...</td>\n",
       "      <td>[0, 1, 0, 1, 1, 1, 0, 1, 1, 1, 1, 1, 0, 1, 1, ...</td>\n",
       "      <td>Telex Typing Error</td>\n",
       "    </tr>\n",
       "    <tr>\n",
       "      <th>97318</th>\n",
       "      <td>Nếu những ai đã được đặt chân đến đây thì chắc...</td>\n",
       "      <td>Nếu những ai đã được đặt chân đến đây thì chắc...</td>\n",
       "      <td>[Nếu, những, ai, đã, được, đặt, chân, đến, đây...</td>\n",
       "      <td>[0, 0, 0, 0, 0, 0, 0, 0, 0, 0, 0, 0, 0, 0, 0, ...</td>\n",
       "      <td>Missing Letter Error</td>\n",
       "    </tr>\n",
       "    <tr>\n",
       "      <th>97319</th>\n",
       "      <td>Co2n nhu74ng ai chu7a d9e61n thi2 ha4y nhanh c...</td>\n",
       "      <td>Còn những ai chưa đến thì hãy nhanh chóng đến ...</td>\n",
       "      <td>[Co2n, nhu74ng, ai, chu7a, d9e61n, thi2, ha4y,...</td>\n",
       "      <td>[2, 2, 0, 2, 2, 2, 2, 0, 2, 2, 2, 2, 2, 2, 2, ...</td>\n",
       "      <td>VNI Typing Error</td>\n",
       "    </tr>\n",
       "  </tbody>\n",
       "</table>\n",
       "<p>97320 rows × 5 columns</p>\n",
       "</div>"
      ],
      "text/plain": [
       "                                              input_text   \n",
       "0      Ba3n li4nh  hai tu72 tha65t d9o7n gia3n nhu7ng...  \\\n",
       "1      Giong nhu mot chiec ao giap duoc toi luyen tu ...   \n",
       "2      Vậy pản lĩnh là gì Bản lĩnh là khả năng giải q...   \n",
       "3      Nguoi ban linh la nguoi dam duong dau voi kho ...   \n",
       "4                         Thất bạivu tự họ sẽ đứng lênub   \n",
       "...                                                  ...   \n",
       "97315  Ho5 kho6ng nhu74ng me61n kha1ch ma2 co2n nhu7 ...   \n",
       "97316  Những con người ở đây nồng nhiệt mỗi chi có ch...   \n",
       "97317  Qua ddaay ta thaasy vijnh Haj Long raast xuwsn...   \n",
       "97318  Nếu những ai đã được đặt chân đến đây thì chắc...   \n",
       "97319  Co2n nhu74ng ai chu7a d9e61n thi2 ha4y nhanh c...   \n",
       "\n",
       "                                             target_text   \n",
       "0      Bản lĩnh  hai từ thật đơn giản nhưng bạn biết ...  \\\n",
       "1      Giống như một chiếc áo giáp được tôi luyện từ ...   \n",
       "2      Vậy bản lĩnh là gì Bản lĩnh là khả năng giải q...   \n",
       "3      Người bản lĩnh là người dám đương đầu với khó ...   \n",
       "4                             Thất bại tự họ sẽ đứng lên   \n",
       "...                                                  ...   \n",
       "97315  Họ không những mến khách mà còn như một người ...   \n",
       "97316  Những con người ở đây nồng nhiệt mỗi khi có kh...   \n",
       "97317  Qua đây ta thấy vịnh Hạ Long rất xứng đáng là ...   \n",
       "97318  Nếu những ai đã được đặt chân đến đây thì chắc...   \n",
       "97319  Còn những ai chưa đến thì hãy nhanh chóng đến ...   \n",
       "\n",
       "                                                  tokens   \n",
       "0      [Ba3n, li4nh, hai, tu72, tha65t, d9o7n, gia3n,...  \\\n",
       "1      [Giong, nhu, mot, chiec, ao, giap, duoc, toi, ...   \n",
       "2      [Vậy, pản, lĩnh, là, gì, Bản, lĩnh, là, khả, n...   \n",
       "3      [Nguoi, ban, linh, la, nguoi, dam, duong, dau,...   \n",
       "4                 [Thất, bạivu, tự, họ, sẽ, đứng, lênub]   \n",
       "...                                                  ...   \n",
       "97315  [Ho5, kho6ng, nhu74ng, me61n, kha1ch, ma2, co2...   \n",
       "97316  [Những, con, người, ở, đây, nồng, nhiệt, mỗi, ...   \n",
       "97317  [Qua, ddaay, ta, thaasy, vijnh, Haj, Long, raa...   \n",
       "97318  [Nếu, những, ai, đã, được, đặt, chân, đến, đây...   \n",
       "97319  [Co2n, nhu74ng, ai, chu7a, d9e61n, thi2, ha4y,...   \n",
       "\n",
       "                                                    tags   \n",
       "0      [2, 2, 0, 2, 2, 2, 2, 2, 2, 2, 2, 2, 2, 0, 2, ...  \\\n",
       "1      [3, 3, 3, 3, 3, 3, 3, 3, 3, 3, 3, 3, 3, 3, 3, ...   \n",
       "2      [0, 6, 0, 0, 0, 0, 0, 0, 0, 0, 0, 0, 0, 0, 0, ...   \n",
       "3                [3, 3, 3, 3, 3, 3, 3, 3, 3, 3, 3, 0, 3]   \n",
       "4                                  [0, 4, 0, 0, 0, 0, 4]   \n",
       "...                                                  ...   \n",
       "97315  [2, 2, 2, 2, 2, 2, 2, 2, 2, 2, 2, 2, 2, 0, 2, ...   \n",
       "97316  [0, 0, 0, 0, 0, 0, 0, 0, 6, 0, 6, 0, 0, 6, 0, ...   \n",
       "97317  [0, 1, 0, 1, 1, 1, 0, 1, 1, 1, 1, 1, 0, 1, 1, ...   \n",
       "97318  [0, 0, 0, 0, 0, 0, 0, 0, 0, 0, 0, 0, 0, 0, 0, ...   \n",
       "97319  [2, 2, 0, 2, 2, 2, 2, 0, 2, 2, 2, 2, 2, 2, 2, ...   \n",
       "\n",
       "              general_error_type  \n",
       "0               VNI Typing Error  \n",
       "1      Missing Diacritical Marks  \n",
       "2           Wrong Spelling Error  \n",
       "3      Missing Diacritical Marks  \n",
       "4            Excess Letter Error  \n",
       "...                          ...  \n",
       "97315           VNI Typing Error  \n",
       "97316       Wrong Spelling Error  \n",
       "97317         Telex Typing Error  \n",
       "97318       Missing Letter Error  \n",
       "97319           VNI Typing Error  \n",
       "\n",
       "[97320 rows x 5 columns]"
      ]
     },
     "execution_count": 5,
     "metadata": {},
     "output_type": "execute_result"
    }
   ],
   "source": [
    "df = pd.DataFrame(data_dict)\n",
    "df"
   ]
  },
  {
   "cell_type": "code",
   "execution_count": 6,
   "id": "e9257ce9",
   "metadata": {},
   "outputs": [
    {
     "data": {
      "text/plain": [
       "general_error_type\n",
       "Missing Diacritical Marks    14557\n",
       "Telex Typing Error           14522\n",
       "VNI Typing Error             14439\n",
       "Wrong Spelling Error         13970\n",
       "Excess Letter Error          13340\n",
       "No Error                     13270\n",
       "Missing Letter Error         13222\n",
       "Name: count, dtype: int64"
      ]
     },
     "execution_count": 6,
     "metadata": {},
     "output_type": "execute_result"
    }
   ],
   "source": [
    "df[\"general_error_type\"].value_counts()"
   ]
  },
  {
   "cell_type": "code",
   "execution_count": 7,
   "id": "338347b0",
   "metadata": {},
   "outputs": [],
   "source": [
    "df.to_csv(\"data_v2.csv\",index=False, encoding='utf-8')"
   ]
  },
  {
   "cell_type": "code",
   "execution_count": null,
   "id": "8aa9d926",
   "metadata": {},
   "outputs": [],
   "source": []
  }
 ],
 "metadata": {
  "kernelspec": {
   "display_name": "spellcor",
   "language": "python",
   "name": "spellcor"
  },
  "language_info": {
   "codemirror_mode": {
    "name": "ipython",
    "version": 3
   },
   "file_extension": ".py",
   "mimetype": "text/x-python",
   "name": "python",
   "nbconvert_exporter": "python",
   "pygments_lexer": "ipython3",
   "version": "3.10.0"
  }
 },
 "nbformat": 4,
 "nbformat_minor": 5
}
