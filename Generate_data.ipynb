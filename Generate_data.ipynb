{
 "cells": [
  {
   "cell_type": "code",
   "execution_count": 1,
   "id": "eeb98d75",
   "metadata": {},
   "outputs": [
    {
     "name": "stderr",
     "output_type": "stream",
     "text": [
      "Found cached dataset csv (C:/Users/phaol/.cache/huggingface/datasets/PaulTran___csv/PaulTran--vn-essay-sentence-ee565544bae3e014/0.0.0/6954658bab30a358235fa864b05cf819af0e179325c740e4bc853bcc7ec513e1)\n"
     ]
    },
    {
     "data": {
      "application/vnd.jupyter.widget-view+json": {
       "model_id": "4c9849f5d65341728d518e225b765ad5",
       "version_major": 2,
       "version_minor": 0
      },
      "text/plain": [
       "  0%|          | 0/1 [00:00<?, ?it/s]"
      ]
     },
     "metadata": {},
     "output_type": "display_data"
    }
   ],
   "source": [
    "import pandas as pd \n",
    "from generate_dataset import DataGenerator as DG\n",
    "from datasets import load_dataset\n",
    "\n",
    "dataset = load_dataset(\"PaulTran/vn-essay-sentence\")"
   ]
  },
  {
   "cell_type": "code",
   "execution_count": 3,
   "id": "8d631faa",
   "metadata": {},
   "outputs": [],
   "source": [
    "raw_data = dataset[\"train\"][\"Text\"]\n",
    "for i in raw_data:\n",
    "    if i.count(\" \") < 3:\n",
    "        raw_data.remove(i)"
   ]
  },
  {
   "cell_type": "code",
   "execution_count": 7,
   "id": "1f29d697",
   "metadata": {},
   "outputs": [
    {
     "name": "stderr",
     "output_type": "stream",
     "text": [
      "100%|████████████████████████████████████████████████████████████████████████████████| 100/100 [01:45<00:00,  1.05s/it]\n"
     ]
    },
    {
     "data": {
      "text/plain": [
       "'Generated data!'"
      ]
     },
     "execution_count": 7,
     "metadata": {},
     "output_type": "execute_result"
    }
   ],
   "source": [
    "data_gen = DG(raw_data)\n",
    "data_gen.generate(iterations=100)"
   ]
  },
  {
   "cell_type": "code",
   "execution_count": 8,
   "id": "3846f219",
   "metadata": {},
   "outputs": [],
   "source": [
    "data_dict = data_gen.get_data()"
   ]
  },
  {
   "cell_type": "code",
   "execution_count": 9,
   "id": "34100dd8",
   "metadata": {},
   "outputs": [
    {
     "data": {
      "text/html": [
       "<div>\n",
       "<style scoped>\n",
       "    .dataframe tbody tr th:only-of-type {\n",
       "        vertical-align: middle;\n",
       "    }\n",
       "\n",
       "    .dataframe tbody tr th {\n",
       "        vertical-align: top;\n",
       "    }\n",
       "\n",
       "    .dataframe thead th {\n",
       "        text-align: right;\n",
       "    }\n",
       "</style>\n",
       "<table border=\"1\" class=\"dataframe\">\n",
       "  <thead>\n",
       "    <tr style=\"text-align: right;\">\n",
       "      <th></th>\n",
       "      <th>input_text</th>\n",
       "      <th>target_text</th>\n",
       "      <th>tokens</th>\n",
       "      <th>tags</th>\n",
       "      <th>general_error_type</th>\n",
       "    </tr>\n",
       "  </thead>\n",
       "  <tbody>\n",
       "    <tr>\n",
       "      <th>0</th>\n",
       "      <td>“Bản lĩnh” – hai từ thật đơn giản nhưng bạn bi...</td>\n",
       "      <td>“Bản lĩnh” – hai từ thật đơn giản nhưng bạn bi...</td>\n",
       "      <td>[“Bản, lĩnh”, –, hai, từ, thật, đơn, giản, như...</td>\n",
       "      <td>[0, 0, 0, 0, 0, 0, 0, 0, 0, 0, 0, 0, 0, 0, 0, ...</td>\n",
       "      <td>No Error</td>\n",
       "    </tr>\n",
       "    <tr>\n",
       "      <th>1</th>\n",
       "      <td>Giống như một chiếc áo giáp được tôi luyện từ ...</td>\n",
       "      <td>Giống như một chiếc áo giáp được tôi luyện từ ...</td>\n",
       "      <td>[Giống, như, một, chiếc, áo, giáp, được, tôi, ...</td>\n",
       "      <td>[0, 0, 0, 0, 0, 0, 0, 0, 0, 0, 0, 0, 0, 0, 0, ...</td>\n",
       "      <td>Missing Letter Error</td>\n",
       "    </tr>\n",
       "    <tr>\n",
       "      <th>2</th>\n",
       "      <td>Vay ban linh la gi? Ban linh la kha nang giai ...</td>\n",
       "      <td>Vậy bản lĩnh là gì? Bản lĩnh là khả năng giải ...</td>\n",
       "      <td>[Vay, ban, linh, la, gi?, Ban, linh, la, kha, ...</td>\n",
       "      <td>[3, 3, 3, 3, 3, 3, 3, 3, 3, 3, 3, 3, 3, 3, 3, ...</td>\n",
       "      <td>Missing Diacritical Marks</td>\n",
       "    </tr>\n",
       "    <tr>\n",
       "      <th>3</th>\n",
       "      <td>Nguoi ban linh la nguoi dam duong dau voi kho ...</td>\n",
       "      <td>Người bản lĩnh là người dám đương đầu với khó ...</td>\n",
       "      <td>[Nguoi, ban, linh, la, nguoi, dam, duong, dau,...</td>\n",
       "      <td>[3, 3, 3, 3, 3, 3, 3, 3, 3, 3, 3, 0, 3]</td>\n",
       "      <td>Missing Diacritical Marks</td>\n",
       "    </tr>\n",
       "    <tr>\n",
       "      <th>4</th>\n",
       "      <td>That bai, tu ho se dung len</td>\n",
       "      <td>Thất bại, tự họ sẽ đứng lên</td>\n",
       "      <td>[That, bai,, tu, ho, se, dung, len]</td>\n",
       "      <td>[3, 3, 3, 3, 3, 3, 3]</td>\n",
       "      <td>Missing Diacritical Marks</td>\n",
       "    </tr>\n",
       "    <tr>\n",
       "      <th>...</th>\n",
       "      <td>...</td>\n",
       "      <td>...</td>\n",
       "      <td>...</td>\n",
       "      <td>...</td>\n",
       "      <td>...</td>\n",
       "    </tr>\n",
       "    <tr>\n",
       "      <th>973195</th>\n",
       "      <td>Họ không những mến khách mà còn như một người ...</td>\n",
       "      <td>Họ không những mến khách mà còn như một người ...</td>\n",
       "      <td>[Họ, không, những, mến, khách, mà, còn, như, m...</td>\n",
       "      <td>[0, 0, 0, 0, 0, 0, 0, 0, 0, 0, 4, 0, 0, 0, 0, ...</td>\n",
       "      <td>Excess Letter Error</td>\n",
       "    </tr>\n",
       "    <tr>\n",
       "      <th>973196</th>\n",
       "      <td>Những con người ở đây nồng nhiệt mỗi khi có kh...</td>\n",
       "      <td>Những con người ở đây nồng nhiệt mỗi khi có kh...</td>\n",
       "      <td>[Những, con, người, ở, đây, nồng, nhiệt, mỗi, ...</td>\n",
       "      <td>[0, 0, 0, 0, 0, 0, 0, 0, 0, 0, 0, 0, 0, 0, 0, ...</td>\n",
       "      <td>Missing Letter Error</td>\n",
       "    </tr>\n",
       "    <tr>\n",
       "      <th>973197</th>\n",
       "      <td>Qua d9a6y ta tha61y vi5nh Ha5 Long ra16t xu71n...</td>\n",
       "      <td>Qua đây ta thấy vịnh Hạ Long rất xứng đáng là ...</td>\n",
       "      <td>[Qua, d9a6y, ta, tha61y, vi5nh, Ha5, Long, ra1...</td>\n",
       "      <td>[0, 2, 0, 2, 2, 2, 0, 2, 2, 2, 2, 2, 0, 2, 2, ...</td>\n",
       "      <td>VNI Typing Error</td>\n",
       "    </tr>\n",
       "    <tr>\n",
       "      <th>973198</th>\n",
       "      <td>Nếu những ai đã được đặt chân đến đây thìyn ch...</td>\n",
       "      <td>Nếu những ai đã được đặt chân đến đây thì chắc...</td>\n",
       "      <td>[Nếu, những, ai, đã, được, đặt, chân, đến, đây...</td>\n",
       "      <td>[0, 0, 0, 0, 0, 0, 0, 0, 0, 4, 0, 0, 0, 0, 0, ...</td>\n",
       "      <td>Excess Letter Error</td>\n",
       "    </tr>\n",
       "    <tr>\n",
       "      <th>973199</th>\n",
       "      <td>Con nhung ai chua den thi hay nhanh chong den ...</td>\n",
       "      <td>Còn những ai chưa đến thì hãy nhanh chóng đến ...</td>\n",
       "      <td>[Con, nhung, ai, chua, den, thi, hay, nhanh, c...</td>\n",
       "      <td>[3, 3, 0, 3, 3, 3, 3, 0, 3, 3, 3, 3, 3, 3, 3, ...</td>\n",
       "      <td>Missing Diacritical Marks</td>\n",
       "    </tr>\n",
       "  </tbody>\n",
       "</table>\n",
       "<p>973200 rows × 5 columns</p>\n",
       "</div>"
      ],
      "text/plain": [
       "                                               input_text   \n",
       "0       “Bản lĩnh” – hai từ thật đơn giản nhưng bạn bi...  \\\n",
       "1       Giống như một chiếc áo giáp được tôi luyện từ ...   \n",
       "2       Vay ban linh la gi? Ban linh la kha nang giai ...   \n",
       "3       Nguoi ban linh la nguoi dam duong dau voi kho ...   \n",
       "4                             That bai, tu ho se dung len   \n",
       "...                                                   ...   \n",
       "973195  Họ không những mến khách mà còn như một người ...   \n",
       "973196  Những con người ở đây nồng nhiệt mỗi khi có kh...   \n",
       "973197  Qua d9a6y ta tha61y vi5nh Ha5 Long ra16t xu71n...   \n",
       "973198  Nếu những ai đã được đặt chân đến đây thìyn ch...   \n",
       "973199  Con nhung ai chua den thi hay nhanh chong den ...   \n",
       "\n",
       "                                              target_text   \n",
       "0       “Bản lĩnh” – hai từ thật đơn giản nhưng bạn bi...  \\\n",
       "1       Giống như một chiếc áo giáp được tôi luyện từ ...   \n",
       "2       Vậy bản lĩnh là gì? Bản lĩnh là khả năng giải ...   \n",
       "3       Người bản lĩnh là người dám đương đầu với khó ...   \n",
       "4                             Thất bại, tự họ sẽ đứng lên   \n",
       "...                                                   ...   \n",
       "973195  Họ không những mến khách mà còn như một người ...   \n",
       "973196  Những con người ở đây nồng nhiệt mỗi khi có kh...   \n",
       "973197  Qua đây ta thấy vịnh Hạ Long rất xứng đáng là ...   \n",
       "973198  Nếu những ai đã được đặt chân đến đây thì chắc...   \n",
       "973199  Còn những ai chưa đến thì hãy nhanh chóng đến ...   \n",
       "\n",
       "                                                   tokens   \n",
       "0       [“Bản, lĩnh”, –, hai, từ, thật, đơn, giản, như...  \\\n",
       "1       [Giống, như, một, chiếc, áo, giáp, được, tôi, ...   \n",
       "2       [Vay, ban, linh, la, gi?, Ban, linh, la, kha, ...   \n",
       "3       [Nguoi, ban, linh, la, nguoi, dam, duong, dau,...   \n",
       "4                     [That, bai,, tu, ho, se, dung, len]   \n",
       "...                                                   ...   \n",
       "973195  [Họ, không, những, mến, khách, mà, còn, như, m...   \n",
       "973196  [Những, con, người, ở, đây, nồng, nhiệt, mỗi, ...   \n",
       "973197  [Qua, d9a6y, ta, tha61y, vi5nh, Ha5, Long, ra1...   \n",
       "973198  [Nếu, những, ai, đã, được, đặt, chân, đến, đây...   \n",
       "973199  [Con, nhung, ai, chua, den, thi, hay, nhanh, c...   \n",
       "\n",
       "                                                     tags   \n",
       "0       [0, 0, 0, 0, 0, 0, 0, 0, 0, 0, 0, 0, 0, 0, 0, ...  \\\n",
       "1       [0, 0, 0, 0, 0, 0, 0, 0, 0, 0, 0, 0, 0, 0, 0, ...   \n",
       "2       [3, 3, 3, 3, 3, 3, 3, 3, 3, 3, 3, 3, 3, 3, 3, ...   \n",
       "3                 [3, 3, 3, 3, 3, 3, 3, 3, 3, 3, 3, 0, 3]   \n",
       "4                                   [3, 3, 3, 3, 3, 3, 3]   \n",
       "...                                                   ...   \n",
       "973195  [0, 0, 0, 0, 0, 0, 0, 0, 0, 0, 4, 0, 0, 0, 0, ...   \n",
       "973196  [0, 0, 0, 0, 0, 0, 0, 0, 0, 0, 0, 0, 0, 0, 0, ...   \n",
       "973197  [0, 2, 0, 2, 2, 2, 0, 2, 2, 2, 2, 2, 0, 2, 2, ...   \n",
       "973198  [0, 0, 0, 0, 0, 0, 0, 0, 0, 4, 0, 0, 0, 0, 0, ...   \n",
       "973199  [3, 3, 0, 3, 3, 3, 3, 0, 3, 3, 3, 3, 3, 3, 3, ...   \n",
       "\n",
       "               general_error_type  \n",
       "0                        No Error  \n",
       "1            Missing Letter Error  \n",
       "2       Missing Diacritical Marks  \n",
       "3       Missing Diacritical Marks  \n",
       "4       Missing Diacritical Marks  \n",
       "...                           ...  \n",
       "973195        Excess Letter Error  \n",
       "973196       Missing Letter Error  \n",
       "973197           VNI Typing Error  \n",
       "973198        Excess Letter Error  \n",
       "973199  Missing Diacritical Marks  \n",
       "\n",
       "[973200 rows x 5 columns]"
      ]
     },
     "execution_count": 9,
     "metadata": {},
     "output_type": "execute_result"
    }
   ],
   "source": [
    "df = pd.DataFrame(data_dict)\n",
    "df"
   ]
  },
  {
   "cell_type": "code",
   "execution_count": 10,
   "id": "e9257ce9",
   "metadata": {},
   "outputs": [
    {
     "data": {
      "text/plain": [
       "general_error_type\n",
       "No Error                     190408\n",
       "VNI Typing Error             139406\n",
       "Missing Diacritical Marks    139211\n",
       "Telex Typing Error           139005\n",
       "Missing Letter Error         126780\n",
       "Excess Letter Error          126563\n",
       "Wrong Spelling Error         111827\n",
       "Name: count, dtype: int64"
      ]
     },
     "execution_count": 10,
     "metadata": {},
     "output_type": "execute_result"
    }
   ],
   "source": [
    "df[\"general_error_type\"].value_counts()"
   ]
  }
 ],
 "metadata": {
  "kernelspec": {
   "display_name": "spellcor",
   "language": "python",
   "name": "spellcor"
  },
  "language_info": {
   "codemirror_mode": {
    "name": "ipython",
    "version": 3
   },
   "file_extension": ".py",
   "mimetype": "text/x-python",
   "name": "python",
   "nbconvert_exporter": "python",
   "pygments_lexer": "ipython3",
   "version": "3.10.0"
  }
 },
 "nbformat": 4,
 "nbformat_minor": 5
}
