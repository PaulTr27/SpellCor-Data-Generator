{
 "cells": [
  {
   "cell_type": "code",
   "execution_count": 8,
   "id": "eeb98d75",
   "metadata": {},
   "outputs": [
    {
     "name": "stderr",
     "output_type": "stream",
     "text": [
      "Found cached dataset csv (C:/Users/phaol/.cache/huggingface/datasets/PaulTran___csv/PaulTran--vn-essay-sentence-ee565544bae3e014/0.0.0/6954658bab30a358235fa864b05cf819af0e179325c740e4bc853bcc7ec513e1)\n"
     ]
    },
    {
     "data": {
      "application/vnd.jupyter.widget-view+json": {
       "model_id": "a54cb8f4d29b4bac9c0ea23bf990f10b",
       "version_major": 2,
       "version_minor": 0
      },
      "text/plain": [
       "  0%|          | 0/1 [00:00<?, ?it/s]"
      ]
     },
     "metadata": {},
     "output_type": "display_data"
    }
   ],
   "source": [
    "import pandas as pd \n",
    "from data_generator import DataGenerator as DG\n",
    "from datasets import load_dataset\n",
    "\n",
    "dataset = load_dataset(\"PaulTran/vn-essay-sentence\")"
   ]
  },
  {
   "cell_type": "code",
   "execution_count": 9,
   "id": "8d631faa",
   "metadata": {},
   "outputs": [],
   "source": [
    "raw_data = dataset[\"train\"][\"Text\"]\n",
    "for i in raw_data:\n",
    "    if i.count(\" \") < 3:\n",
    "        raw_data.remove(i)"
   ]
  },
  {
   "cell_type": "code",
   "execution_count": 10,
   "id": "1f29d697",
   "metadata": {
    "scrolled": true
   },
   "outputs": [
    {
     "name": "stderr",
     "output_type": "stream",
     "text": [
      "100%|████████████████████████████████████████████████████████████████████████████████| 100/100 [04:18<00:00,  2.59s/it]\n"
     ]
    },
    {
     "data": {
      "text/plain": [
       "'Generated data!'"
      ]
     },
     "execution_count": 10,
     "metadata": {},
     "output_type": "execute_result"
    }
   ],
   "source": [
    "data_gen = DG(raw_data)\n",
    "data_gen.generate(iterations=100)"
   ]
  },
  {
   "cell_type": "code",
   "execution_count": 14,
   "id": "3846f219",
   "metadata": {},
   "outputs": [],
   "source": [
    "data_dict = data_gen.get_data()"
   ]
  },
  {
   "cell_type": "code",
   "execution_count": 15,
   "id": "34100dd8",
   "metadata": {},
   "outputs": [
    {
     "data": {
      "text/html": [
       "<div>\n",
       "<style scoped>\n",
       "    .dataframe tbody tr th:only-of-type {\n",
       "        vertical-align: middle;\n",
       "    }\n",
       "\n",
       "    .dataframe tbody tr th {\n",
       "        vertical-align: top;\n",
       "    }\n",
       "\n",
       "    .dataframe thead th {\n",
       "        text-align: right;\n",
       "    }\n",
       "</style>\n",
       "<table border=\"1\" class=\"dataframe\">\n",
       "  <thead>\n",
       "    <tr style=\"text-align: right;\">\n",
       "      <th></th>\n",
       "      <th>input_text</th>\n",
       "      <th>target_text</th>\n",
       "      <th>tokens</th>\n",
       "      <th>tags</th>\n",
       "    </tr>\n",
       "  </thead>\n",
       "  <tbody>\n",
       "    <tr>\n",
       "      <th>0</th>\n",
       "      <td>Ba3n lĩnh hai từ thật đơn giản nhưng pạn bie61...</td>\n",
       "      <td>Bản lĩnh  hai từ thật đơn giản nhưng bạn biết ...</td>\n",
       "      <td>[Ba3n, lĩnh, hai, từ, thật, đơn, giản, nhưng, ...</td>\n",
       "      <td>[2, 0, 0, 0, 0, 0, 0, 0, 6, 2, 0, 0, 0, 0, 1, ...</td>\n",
       "    </tr>\n",
       "    <tr>\n",
       "      <th>1</th>\n",
       "      <td>Giống như một chiếc á giáp được tooi luyn tu72...</td>\n",
       "      <td>Giống như một chiếc áo giáp được tôi luyện từ ...</td>\n",
       "      <td>[Giống, như, một, chiếc, á, giáp, được, tooi, ...</td>\n",
       "      <td>[0, 0, 0, 0, 5, 0, 0, 1, 5, 2, 0, 0, 6, 0, 0, ...</td>\n",
       "    </tr>\n",
       "    <tr>\n",
       "      <th>2</th>\n",
       "      <td>Va65y bản lĩnh lài gif Ba3n lĩnh là khả năg gi...</td>\n",
       "      <td>Vậy bản lĩnh là gì Bản lĩnh là khả năng giải q...</td>\n",
       "      <td>[Va65y, bản, lĩnh, lài, gif, Ba3n, lĩnh, là, k...</td>\n",
       "      <td>[2, 0, 0, 4, 1, 2, 0, 0, 0, 5, 0, 1, 0, 1, 0, ...</td>\n",
       "    </tr>\n",
       "    <tr>\n",
       "      <th>3</th>\n",
       "      <td>Nguwofwi bả lĩnh rà người dám đương đầu với kh...</td>\n",
       "      <td>Người bản lĩnh là người dám đương đầu với khó ...</td>\n",
       "      <td>[Nguwofwi, bả, lĩnh, rà, người, dám, đương, đầ...</td>\n",
       "      <td>[1, 5, 0, 6, 0, 0, 0, 0, 0, 0, 0, 4, 6]</td>\n",
       "    </tr>\n",
       "    <tr>\n",
       "      <th>4</th>\n",
       "      <td>hất bại t họ sẽ đứng lên</td>\n",
       "      <td>Thất bại tự họ sẽ đứng lên</td>\n",
       "      <td>[hất, bại, t, họ, sẽ, đứng, lên]</td>\n",
       "      <td>[5, 0, 5, 0, 0, 0, 0]</td>\n",
       "    </tr>\n",
       "    <tr>\n",
       "      <th>...</th>\n",
       "      <td>...</td>\n",
       "      <td>...</td>\n",
       "      <td>...</td>\n",
       "      <td>...</td>\n",
       "    </tr>\n",
       "    <tr>\n",
       "      <th>973195</th>\n",
       "      <td>Họ không những mến chách mà còn nư một người h...</td>\n",
       "      <td>Họ không những mến khách mà còn như một người ...</td>\n",
       "      <td>[Họ, không, những, mến, chách, mà, còn, nư, mộ...</td>\n",
       "      <td>[0, 0, 0, 0, 6, 0, 0, 5, 0, 0, 0, 6, 0, 4, 0, ...</td>\n",
       "    </tr>\n",
       "    <tr>\n",
       "      <th>973196</th>\n",
       "      <td>Những con người ở đây nồng nhiệt mỗi khi có kh...</td>\n",
       "      <td>Những con người ở đây nồng nhiệt mỗi khi có kh...</td>\n",
       "      <td>[Những, con, người, ở, đây, nồng, nhiệt, mỗi, ...</td>\n",
       "      <td>[0, 0, 0, 0, 0, 0, 0, 0, 0, 0, 0, 0, 0, 0, 6, ...</td>\n",
       "    </tr>\n",
       "    <tr>\n",
       "      <th>973197</th>\n",
       "      <td>Qua day ta thấy vịn Hạ Long lất xứng đáng là m...</td>\n",
       "      <td>Qua đây ta thấy vịnh Hạ Long rất xứng đáng là ...</td>\n",
       "      <td>[Qua, day, ta, thấy, vịn, Hạ, Long, lất, xứng,...</td>\n",
       "      <td>[0, 3, 0, 0, 5, 0, 0, 6, 0, 0, 0, 0, 0, 4, 0, ...</td>\n",
       "    </tr>\n",
       "    <tr>\n",
       "      <th>973198</th>\n",
       "      <td>Nếu những ai đã dduwowjc đặt chân den đây thì ...</td>\n",
       "      <td>Nếu những ai đã được đặt chân đến đây thì chắc...</td>\n",
       "      <td>[Nếu, những, ai, đã, dduwowjc, đặt, chân, den,...</td>\n",
       "      <td>[0, 0, 0, 0, 1, 0, 0, 3, 0, 0, 5, 0, 0, 0, 0, ...</td>\n",
       "    </tr>\n",
       "    <tr>\n",
       "      <th>973199</th>\n",
       "      <td>Còn những ai chưa đn thì hãy nhanh chong đến m...</td>\n",
       "      <td>Còn những ai chưa đến thì hãy nhanh chóng đến ...</td>\n",
       "      <td>[Còn, những, ai, chưa, đn, thì, hãy, nhanh, ch...</td>\n",
       "      <td>[0, 0, 0, 0, 5, 0, 0, 0, 3, 0, 0, 0, 0, 0, 0, ...</td>\n",
       "    </tr>\n",
       "  </tbody>\n",
       "</table>\n",
       "<p>973200 rows × 4 columns</p>\n",
       "</div>"
      ],
      "text/plain": [
       "                                               input_text   \n",
       "0       Ba3n lĩnh hai từ thật đơn giản nhưng pạn bie61...  \\\n",
       "1       Giống như một chiếc á giáp được tooi luyn tu72...   \n",
       "2       Va65y bản lĩnh lài gif Ba3n lĩnh là khả năg gi...   \n",
       "3       Nguwofwi bả lĩnh rà người dám đương đầu với kh...   \n",
       "4                                hất bại t họ sẽ đứng lên   \n",
       "...                                                   ...   \n",
       "973195  Họ không những mến chách mà còn nư một người h...   \n",
       "973196  Những con người ở đây nồng nhiệt mỗi khi có kh...   \n",
       "973197  Qua day ta thấy vịn Hạ Long lất xứng đáng là m...   \n",
       "973198  Nếu những ai đã dduwowjc đặt chân den đây thì ...   \n",
       "973199  Còn những ai chưa đn thì hãy nhanh chong đến m...   \n",
       "\n",
       "                                              target_text   \n",
       "0       Bản lĩnh  hai từ thật đơn giản nhưng bạn biết ...  \\\n",
       "1       Giống như một chiếc áo giáp được tôi luyện từ ...   \n",
       "2       Vậy bản lĩnh là gì Bản lĩnh là khả năng giải q...   \n",
       "3       Người bản lĩnh là người dám đương đầu với khó ...   \n",
       "4                              Thất bại tự họ sẽ đứng lên   \n",
       "...                                                   ...   \n",
       "973195  Họ không những mến khách mà còn như một người ...   \n",
       "973196  Những con người ở đây nồng nhiệt mỗi khi có kh...   \n",
       "973197  Qua đây ta thấy vịnh Hạ Long rất xứng đáng là ...   \n",
       "973198  Nếu những ai đã được đặt chân đến đây thì chắc...   \n",
       "973199  Còn những ai chưa đến thì hãy nhanh chóng đến ...   \n",
       "\n",
       "                                                   tokens   \n",
       "0       [Ba3n, lĩnh, hai, từ, thật, đơn, giản, nhưng, ...  \\\n",
       "1       [Giống, như, một, chiếc, á, giáp, được, tooi, ...   \n",
       "2       [Va65y, bản, lĩnh, lài, gif, Ba3n, lĩnh, là, k...   \n",
       "3       [Nguwofwi, bả, lĩnh, rà, người, dám, đương, đầ...   \n",
       "4                        [hất, bại, t, họ, sẽ, đứng, lên]   \n",
       "...                                                   ...   \n",
       "973195  [Họ, không, những, mến, chách, mà, còn, nư, mộ...   \n",
       "973196  [Những, con, người, ở, đây, nồng, nhiệt, mỗi, ...   \n",
       "973197  [Qua, day, ta, thấy, vịn, Hạ, Long, lất, xứng,...   \n",
       "973198  [Nếu, những, ai, đã, dduwowjc, đặt, chân, den,...   \n",
       "973199  [Còn, những, ai, chưa, đn, thì, hãy, nhanh, ch...   \n",
       "\n",
       "                                                     tags  \n",
       "0       [2, 0, 0, 0, 0, 0, 0, 0, 6, 2, 0, 0, 0, 0, 1, ...  \n",
       "1       [0, 0, 0, 0, 5, 0, 0, 1, 5, 2, 0, 0, 6, 0, 0, ...  \n",
       "2       [2, 0, 0, 4, 1, 2, 0, 0, 0, 5, 0, 1, 0, 1, 0, ...  \n",
       "3                 [1, 5, 0, 6, 0, 0, 0, 0, 0, 0, 0, 4, 6]  \n",
       "4                                   [5, 0, 5, 0, 0, 0, 0]  \n",
       "...                                                   ...  \n",
       "973195  [0, 0, 0, 0, 6, 0, 0, 5, 0, 0, 0, 6, 0, 4, 0, ...  \n",
       "973196  [0, 0, 0, 0, 0, 0, 0, 0, 0, 0, 0, 0, 0, 0, 6, ...  \n",
       "973197  [0, 3, 0, 0, 5, 0, 0, 6, 0, 0, 0, 0, 0, 4, 0, ...  \n",
       "973198  [0, 0, 0, 0, 1, 0, 0, 3, 0, 0, 5, 0, 0, 0, 0, ...  \n",
       "973199  [0, 0, 0, 0, 5, 0, 0, 0, 3, 0, 0, 0, 0, 0, 0, ...  \n",
       "\n",
       "[973200 rows x 4 columns]"
      ]
     },
     "execution_count": 15,
     "metadata": {},
     "output_type": "execute_result"
    }
   ],
   "source": [
    "df = pd.DataFrame(data_dict)\n",
    "df"
   ]
  },
  {
   "cell_type": "code",
   "execution_count": 16,
   "id": "e9257ce9",
   "metadata": {},
   "outputs": [
    {
     "name": "stdout",
     "output_type": "stream",
     "text": [
      "Length of generated dataset: 973200 \n",
      " \n",
      "\n",
      "Number of errors in each type: \n",
      "No Error                   :   1878638\n",
      "Telex Typing Error         :   1070590\n",
      "VNI Typing Error           :   1068209\n",
      "Missing Diacritical Marks  :   1070033\n",
      "Excess Letter Error        :   1227186\n",
      "Missing Letter Error       :   1216672\n",
      "Wrong Spelling Error       :   685272\n"
     ]
    }
   ],
   "source": [
    "data_gen.get_data_info()\n"
   ]
  },
  {
   "cell_type": "code",
   "execution_count": 18,
   "id": "338347b0",
   "metadata": {},
   "outputs": [],
   "source": [
    "df.to_csv(\"data_v3.csv\",index = False)"
   ]
  },
  {
   "cell_type": "code",
   "execution_count": null,
   "id": "8aa9d926",
   "metadata": {},
   "outputs": [],
   "source": [
    "from datasets import load_dataset\n",
    "\n",
    "dataset = load_dataset(\"PaulTran/spellcor_dataset_v2\")"
   ]
  },
  {
   "cell_type": "code",
   "execution_count": null,
   "id": "aad25940",
   "metadata": {},
   "outputs": [],
   "source": [
    "dataset['train'][0]['data'][0]"
   ]
  },
  {
   "cell_type": "code",
   "execution_count": null,
   "id": "84e62685",
   "metadata": {},
   "outputs": [],
   "source": [
    "0.1791044776119403 + 0.07462686567164178"
   ]
  },
  {
   "cell_type": "code",
   "execution_count": null,
   "id": "276b8a0f",
   "metadata": {},
   "outputs": [],
   "source": []
  }
 ],
 "metadata": {
  "kernelspec": {
   "display_name": "spellcor",
   "language": "python",
   "name": "spellcor"
  },
  "language_info": {
   "codemirror_mode": {
    "name": "ipython",
    "version": 3
   },
   "file_extension": ".py",
   "mimetype": "text/x-python",
   "name": "python",
   "nbconvert_exporter": "python",
   "pygments_lexer": "ipython3",
   "version": "3.10.0"
  }
 },
 "nbformat": 4,
 "nbformat_minor": 5
}
