{
 "cells": [
  {
   "cell_type": "code",
   "execution_count": 14,
   "id": "f2e95e9f",
   "metadata": {},
   "outputs": [],
   "source": [
    "import random"
   ]
  },
  {
   "cell_type": "code",
   "execution_count": 125,
   "id": "65f8a7e8",
   "metadata": {},
   "outputs": [],
   "source": [
    "def No_Error(text):\n",
    "    return text"
   ]
  },
  {
   "cell_type": "code",
   "execution_count": 65,
   "id": "7f773097",
   "metadata": {},
   "outputs": [],
   "source": [
    "def Telex_Typing_Error(text):\n",
    "    telex_dict = {'à': 'af', 'á': 'as', 'ả': 'ar', 'ã': 'ax', 'ạ': 'aj',\n",
    "             'ă': 'aw', 'ằ': ['awf', 'afw'], 'ắ': ['aws' ,'asw'], 'ẳ': ['awr', 'arw'], 'ẵ': ['awx', 'axw'], 'ặ': ['awj','ajw'],\n",
    "             'â': 'aa', 'ầ': ['aaf', 'afa'], 'ấ': ['aas', 'asa'], 'ẩ': ['aar', 'ara'], 'ẫ': ['aax', 'axa'], 'ậ': ['aaj','aja'],\n",
    "             'è': 'ef', 'é' : 'es', 'ẻ': 'er', 'ẽ': 'ex', 'ẹ': 'ej',\n",
    "             'ê': 'ee', 'ề': ['eef', 'efe'], 'ế': ['ees', 'ese'], 'ể': ['eer', 'ere'], 'ễ': ['eex', 'exe'], 'ệ': ['eej','eje'],\n",
    "             'ì': 'if', 'í': 'is', 'ỉ': 'ir', 'ĩ': 'ix', 'ị':'ij',\n",
    "              'ò': 'of', 'ó':'os', 'ỏ': 'or', 'õ': 'ox', 'ọ': 'oj',\n",
    "              'ô': 'oo', 'ồ': ['oof', 'ofo'], 'ố': ['oos', 'oso'], 'ổ': ['oor', 'oro'], 'ỗ': ['oox', 'oxo'], 'ộ': ['ooj', 'ojo'],\n",
    "              'ơ': 'ow', 'ờ': ['owf', 'ofw'], 'ớ': ['ows', 'osw'], 'ở': ['owr', 'orw'], 'ỡ': ['owx', 'oxw'], 'ợ': ['owj', 'ojw'],\n",
    "              'ù': 'uf', 'ú': 'us', 'ủ': 'ur', 'ũ': 'ux', 'ụ': 'uj',\n",
    "              'ư': 'uw', 'ừ': ['uwf', 'ufw'], 'ứ': ['uws', 'usw'], 'ử': ['uwr', 'urw'], 'ữ': ['uwx', 'uxw'], 'ự': ['uwj', 'ujw'],\n",
    "              'ỳ': 'yf', 'ý': 'ys', 'ỷ': 'yr', 'ỹ': 'yx', 'ỵ': 'yj',\n",
    "              'đ': 'dd'\n",
    "              }\n",
    "    telex_sentence = ''\n",
    "    for char in text: \n",
    "        if char.lower() in telex_dict:\n",
    "            if type(telex_dict[char.lower()]) == list:\n",
    "                if random.random() <= 0.8:\n",
    "                    telex_char = telex_dict[char.lower()][0]\n",
    "                else:\n",
    "                    telex_char = telex_dict[char.lower()][1]\n",
    "            else:\n",
    "\n",
    "                telex_char = telex_dict[char.lower()]\n",
    "            if char.isupper():\n",
    "                    telex_char = telex_char.title()\n",
    "            telex_sentence += telex_char \n",
    "        else:\n",
    "            telex_sentence += char\n",
    "    return telex_sentence"
   ]
  },
  {
   "cell_type": "code",
   "execution_count": 71,
   "id": "9eed057d",
   "metadata": {},
   "outputs": [],
   "source": [
    "def VNI_Typing_Error(text):\n",
    "    vni_dict = {'à': 'a2', 'á': 'a1', 'ả': 'a3', 'ã': 'a4', 'ạ': 'a5',\n",
    "             'ă': 'a8', 'ằ': ['a82', 'a28'], 'ắ': ['a81' ,'a18'], 'ẳ': ['a83', 'a38'], 'ẵ': ['a84', 'a48'], 'ặ': ['a85','a58'],\n",
    "             'â': 'a6', 'ầ': ['a62', 'a26'], 'ấ': ['a61', 'a16'], 'ẩ': ['a63', 'a36'], 'ẫ': ['a64', 'a46'], 'ậ': ['a65','a56'],\n",
    "             'è': 'e2', 'é' : 'e1', 'ẻ': 'e3', 'ẽ': 'e4', 'ẹ': 'e5',\n",
    "             'ê': 'e6', 'ề': ['e62', 'e26'], 'ế': ['e61', 'e16'], 'ể': ['e63', 'e36'], 'ễ': ['e64', 'e46'], 'ệ': ['e65','e56'],\n",
    "             'ì': 'i2', 'í': 'i1', 'ỉ': 'i3', 'ĩ': 'i4', 'ị':'i5',\n",
    "              'ò': 'o2', 'ó':'o1', 'ỏ': 'o3', 'õ': 'o4', 'ọ': 'o5',\n",
    "              'ô': 'o6', 'ồ': ['o62', 'o26'], 'ố': ['o61', 'o16'], 'ổ': ['o63', 'o36'], 'ỗ': ['o64', 'o46'], 'ộ': ['o65', 'o56'],\n",
    "              'ơ': 'o7', 'ờ': ['o72', 'o27'], 'ớ': ['o71', 'o17'], 'ở': ['o73', 'o37'], 'ỡ': ['o74', 'o47'], 'ợ': ['o75', 'o57'],\n",
    "              'ù': 'u2', 'ú': 'u1', 'ủ': 'u3', 'ũ': 'u4', 'ụ': 'u5',\n",
    "              'ư': 'u7', 'ừ': ['u72', 'u27'], 'ứ': ['u71', 'u17'], 'ử': ['u73', 'u37'], 'ữ': ['u74', 'u47'], 'ự': ['u75', 'u57'],\n",
    "              'ỳ': 'y2', 'ý': 'y1', 'ỷ': 'y3', 'ỹ': 'y4', 'ỵ': 'y5',\n",
    "              'đ': 'd9'\n",
    "              }\n",
    "    vni_sentence = ''\n",
    "    for char in text: \n",
    "        if char.lower() in vni_dict:\n",
    "            if type(vni_dict[char.lower()]) == list:\n",
    "                if random.random() <= 0.8:\n",
    "                    vni_char = vni_dict[char.lower()][0]\n",
    "                else:\n",
    "                    vni_char = telex_dict[char.lower()][1]\n",
    "            else:\n",
    "\n",
    "                vni_char = vni_dict[char.lower()]\n",
    "            if char.isupper():\n",
    "                    vni_char = vni_char.title()\n",
    "            vni_sentence += vni_char \n",
    "        else:\n",
    "            vni_sentence += char\n",
    "    return vni_sentence"
   ]
  },
  {
   "cell_type": "code",
   "execution_count": null,
   "id": "1df611dd",
   "metadata": {},
   "outputs": [],
   "source": [
    "def Mising_Diacritical_Marks(text):\n",
    "    non_diacritical_mark_dict = {\n",
    "        'à': 'a', 'á': 'a', 'ả': 'a', 'ã': 'a', 'ạ': 'a',\n",
    "        'ă': 'a', 'ằ': 'a', 'ắ': 'a', 'ẳ': 'a', 'ẵ': 'a', 'ặ': 'a',\n",
    "        'â': 'a', 'ầ': 'a', 'ấ': 'a', 'ẩ': 'a', 'ẫ': 'a', 'ậ': 'a',\n",
    "        'è': 'e', 'é': 'e', 'ẻ': 'e', 'ẽ': 'e', 'ẹ': 'e',\n",
    "        'ê': 'e', 'ề': 'e', 'ế': 'e', 'ể': 'e', 'ễ': 'e', 'ệ': 'e',\n",
    "        'ì': 'i', 'í': 'i', 'ỉ': 'i', 'ĩ': 'i', 'ị': 'i',\n",
    "        'ò': 'o', 'ó': 'o', 'ỏ': 'o', 'õ': 'o', 'ọ': 'o',\n",
    "        'ô': 'o', 'ồ': 'o', 'ố': 'o', 'ổ': 'o', 'ỗ': 'o', 'ộ': 'o',\n",
    "        'ơ': 'o', 'ờ': 'o', 'ớ': 'o', 'ở': 'o', 'ỡ': 'o', 'ợ': 'o',\n",
    "        'ù': 'u', 'ú': 'u', 'ủ': 'u', 'ũ': 'u', 'ụ': 'u',\n",
    "        'ư': 'u', 'ừ': 'u', 'ứ': 'u', 'ử': 'u', 'ữ': 'u', 'ự': 'u',\n",
    "        'ỳ': 'y', 'ý': 'y', 'ỷ': 'y', 'ỹ': 'y', 'ỵ': 'y',\n",
    "        'đ': 'd'\n",
    "    }\n",
    "    non_diacritic_sentence = ''\n",
    "    for char in text:\n",
    "        if char.lower() in non_diacritical_mark_dict:\n",
    "            new_char = non_diacritical_mark_dict[char.lower()]\n",
    "            if char.isupper():\n",
    "               new_char = new_char.title()    \n",
    "            non_diacritic_sentence += new_char\n",
    "\n",
    "        else:\n",
    "            non_diacritic_sentence += char\n",
    "    return non_diacritic_sentence"
   ]
  },
  {
   "cell_type": "code",
   "execution_count": 64,
   "id": "0cac93b8",
   "metadata": {},
   "outputs": [
    {
     "name": "stdout",
     "output_type": "stream",
     "text": [
      "('Trời ơi cáib quần quèy gì đâyyy', [2, 4, 6])\n"
     ]
    }
   ],
   "source": [
    "def random_words(sentence):\n",
    "    words = sentence.split()\n",
    "    long_words = [word for word in words if len(word) > 2]\n",
    "    num_words = random.randint(1, min(3, len(long_words)))\n",
    "    return ' '.join(random.sample(long_words, num_words))\n",
    "def make_longer(word):\n",
    "    vowels = ['a', 'e', 'i', 'o', 'u','y']\n",
    "    consonants = ['b', 'c', 'd', 'g', 'h', 'k', 'l', 'm', 'n', 'p', 'q', 'r', 's', 't', 'v', 'x']\n",
    "    length = random.randint(1, 2)\n",
    "    for i in range(length):\n",
    "        if word[-1] in vowels:\n",
    "            if random.random() < 0.7:\n",
    "                word += random.choice(consonants)\n",
    "            else:\n",
    "                word += random.choice(vowels)\n",
    "        else:\n",
    "            if random.random() < 0.7:\n",
    "                word += random.choice(vowels)\n",
    "            else:\n",
    "                word += random.choice(consonants)\n",
    "    return word\n",
    "def Excess_Letter_Error(text):\n",
    "    words = text.split()\n",
    "    new_words = []\n",
    "    indices = []\n",
    "    for i,word in enumerate(words):\n",
    "        if word in random_words(text):\n",
    "            indices.append(i)\n",
    "            new_words.append(make_longer(word))\n",
    "        else:\n",
    "            new_words.append(word)\n",
    "    return ' '.join(new_words), indices\n",
    "print(Excess_Letter_Error('Trời ơi cái quần què gì đây'))"
   ]
  },
  {
   "cell_type": "code",
   "execution_count": 116,
   "id": "a835bc58",
   "metadata": {},
   "outputs": [],
   "source": [
    "def random_words(sentence):\n",
    "    words = sentence.split()\n",
    "    long_words = [word for word in words if len(word) > 2]\n",
    "    num_words = random.randint(1, min(3, len(long_words)))\n",
    "    return ' '.join(random.sample(long_words, num_words))\n",
    "def remove_letters(word):\n",
    "    length = 1\n",
    "    indices = random.sample(range(len(word)), length) \n",
    "    new_word = ''\n",
    "    for i in range(len(word)):\n",
    "        if i in indices:\n",
    "            new_word += '_'\n",
    "        else:\n",
    "            new_word += word[i]\n",
    "    new_word = new_word.replace(\"_\",'')\n",
    "    return new_word\n",
    "def Missing_Letter_Error(text):\n",
    "    words = text.split()\n",
    "    new_words = []\n",
    "    indices = []\n",
    "    for i, word in enumerate(words):\n",
    "        if word in random_word(text):\n",
    "            new_word = remove_letters(word)\n",
    "            new_words.append(new_word)\n",
    "            indices.append(i)\n",
    "        else:\n",
    "            new_words.append(word)\n",
    "    return ' '.join(new_words), indices"
   ]
  },
  {
   "cell_type": "code",
   "execution_count": 97,
   "id": "68e2deb0",
   "metadata": {},
   "outputs": [],
   "source": [
    "# Wrong Spelling Error\n",
    "def replace_start_letter(sentence, letters):\n",
    "    words = sentence.split()\n",
    "    found_word = False\n",
    "    indices = []\n",
    "    for i in range(len(words)):\n",
    "        if words[i].startswith(letters[0]) :\n",
    "            found_word = True\n",
    "            indices.append(i)\n",
    "            words[i] = letters[1] + words[i][len(letters[0]):]\n",
    "    if not found_word:\n",
    "        return False, indices\n",
    "    return ' '.join(words), indices\n"
   ]
  },
  {
   "cell_type": "code",
   "execution_count": 103,
   "id": "5fddc70f",
   "metadata": {},
   "outputs": [],
   "source": [
    "def random_first_letter(sentence,\n",
    "                        types_error = [('d','gi'),('gi','d'),('l','r'),('r','l'),('b','p'),('p','b'),('x','s'),('s','x'),('c','k'),('k','c'),('ch','tr'),('tr','ch')], \n",
    "                        probabilities = [0.1,0.1,0.05,0.05,0.05,0.05,0.05,0.1,0.1,0.05,0.15,0.15]):\n",
    "    for i in range(len(probabilities)):\n",
    "        if i == len(probabilities) - 1 :\n",
    "            if not replace_start_letter(sentence, types_error[i])[0]:\n",
    "                break \n",
    "            else:\n",
    "                return replace_start_letter(sentence,types_error[i])\n",
    "                break \n",
    "        elif random.random() < probabilities[i]:\n",
    "            if not replace_start_letter(sentence, types_error[i])[0]:\n",
    "                break \n",
    "            else:\n",
    "                return replace_start_letter(sentence,types_error[i])\n",
    "                break "
   ]
  },
  {
   "cell_type": "code",
   "execution_count": 70,
   "id": "7a76fae4",
   "metadata": {},
   "outputs": [
    {
     "ename": "IndentationError",
     "evalue": "expected an indented block (201017707.py, line 2)",
     "output_type": "error",
     "traceback": [
      "\u001b[1;36m  Cell \u001b[1;32mIn[70], line 2\u001b[1;36m\u001b[0m\n\u001b[1;33m    \u001b[0m\n\u001b[1;37m    ^\u001b[0m\n\u001b[1;31mIndentationError\u001b[0m\u001b[1;31m:\u001b[0m expected an indented block\n"
     ]
    }
   ],
   "source": [
    "def wrong_spelling(text):\n"
   ]
  }
 ],
 "metadata": {
  "kernelspec": {
   "display_name": "Python 3 (ipykernel)",
   "language": "python",
   "name": "python3"
  },
  "language_info": {
   "codemirror_mode": {
    "name": "ipython",
    "version": 3
   },
   "file_extension": ".py",
   "mimetype": "text/x-python",
   "name": "python",
   "nbconvert_exporter": "python",
   "pygments_lexer": "ipython3",
   "version": "3.9.16"
  }
 },
 "nbformat": 4,
 "nbformat_minor": 5
}
